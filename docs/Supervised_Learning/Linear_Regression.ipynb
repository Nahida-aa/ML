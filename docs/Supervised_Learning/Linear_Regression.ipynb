{
 "cells": [
  {
   "cell_type": "markdown",
   "metadata": {},
   "source": [
    "# Linear Regression"
   ]
  },
  {
   "cell_type": "markdown",
   "metadata": {},
   "source": [
    "$$\n",
    "\\begin{align*}\n",
    "\\text{Model: } h_{\\theta}(x) &= \\theta_0 + \\theta_1 x_1 + \\theta_2 x_2 + \\ldots + \\theta_n x_n \\\\\n",
    "\\text{Cost Function: } J(\\theta) &= \\frac{1}{2m} \\sum_{i=1}^{m} (h_{\\theta}(x^{(i)}) - y^{(i)})^2 \\\\\n",
    "\\text{Gradient Descent: } \\theta_j &:= \\theta_j - \\alpha \\frac{\\partial}{\\partial \\theta_j} J(\\theta) \\\\\n",
    "& = \\theta_j - \\alpha \\cdot X^T (X \\theta - y) \\\\ \n",
    "\\end{align*}\n",
    "$$"
   ]
  },
  {
   "cell_type": "markdown",
   "metadata": {},
   "source": [
    "## Loss(/Cost) Function"
   ]
  },
  {
   "cell_type": "markdown",
   "metadata": {},
   "source": [
    "## Gradient Descent"
   ]
  },
  {
   "cell_type": "markdown",
   "metadata": {},
   "source": [
    "Have some Function $$J(w,b)$$\n",
    "\n",
    "Want $$ \\min_{w,b} J(w,b) $$\n",
    "\n",
    "$$\n",
    "\\begin{align*}\n",
    "w^{(t+1)} & = w^{(t)} - \\alpha \\frac{\\partial J(w,b)}{\\partial w} \\\\\n",
    "& = w^{(t)} - \\alpha \\frac{\\partial \\frac{1}{2m} \\sum_{i=1}^{m} (wx^{(i)}+b - y^{(i)})^2}{\\partial w} \\\\\n",
    "& = w^{(t)} - \\alpha \\frac{1}{m} \\sum_{i=1}^{m} (wx^{(i)}+b - y^{(i)}) x^{(i)} \\\\\n",
    "b^{(t+1)} & = b^{(t)} - \\alpha \\frac{\\partial J(w,b)}{\\partial b}\\\\\n",
    "& = b^{(t)} - \\alpha \\frac{\\partial \\frac{1}{2m} \\sum_{i=1}^{m} (wx^{(i)}+b - y^{(i)})^2}{\\partial b} \\\\\n",
    "& = b^{(t)} - \\alpha \\frac{1}{m} \\sum_{i=1}^{m} (wx^{(i)}+b - y^{(i)}) \\\\\n",
    "\\end{align*}\n",
    "$$"
   ]
  },
  {
   "cell_type": "markdown",
   "metadata": {},
   "source": []
  },
  {
   "cell_type": "markdown",
   "metadata": {},
   "source": [
    "### Learning Rate"
   ]
  },
  {
   "cell_type": "markdown",
   "metadata": {},
   "source": [
    "### Batch Gradient Descent"
   ]
  },
  {
   "cell_type": "markdown",
   "metadata": {},
   "source": [
    "## Multiple Features\n",
    "\n",
    "$$\n",
    "\\begin{align*}\n",
    "&\\textcolor{yellow}{x_j} = \\textcolor{yellow}{j^{th}} \\text{ feature} \\\\\n",
    "&\\textcolor{yellow}{n} = \\text{number of features} \\\\\n",
    "&\\textcolor{yellow}{\\vec{x}}\\textcolor{cyan}{^{(i)}} =\\text{input (features) of } \\textcolor{cyan}{i^{th}} \\text{ training example} \\\\\n",
    "&\\textcolor{yellow}{x_j}\\textcolor{cyan}{^{(i)}} = \\text{value of feature } \\textcolor{yellow}j \\text{ in } \\textcolor{cyan}{i^{th}} \\text{ training example}\n",
    "\\end{align*}\n",
    "$$"
   ]
  },
  {
   "cell_type": "markdown",
   "metadata": {},
   "source": [
    "$$\n",
    "\\begin{align*}\n",
    "\\textcolor{cyan}{f_{\\vec{w},b}}(\\textcolor{yellow}{\\vec{x}}) &= \\textcolor{cyan}{\\vec{w}} \\cdot \\textcolor{yellow}{\\vec{x}} + \\textcolor{cyan}b \\\\\n",
    "&= \\textcolor{cyan}{w_1} \\textcolor{yellow}{x_1} + \\textcolor{cyan}{w_2} \\textcolor{yellow}{x_2} + \\ldots + \\textcolor{cyan}{w_n} \\textcolor{yellow}{x_n} + \\textcolor{cyan}b\\\\\n",
    "\\end{align*}\n",
    "$$"
   ]
  },
  {
   "cell_type": "code",
   "execution_count": 1,
   "metadata": {},
   "outputs": [],
   "source": [
    "import numpy as np\n",
    "w = np.array([1, 0.2, -3])\n",
    "b = 4\n",
    "x = np.array([2, 3, 4])\n",
    "\n",
    "f = w[0]*x[0] + w[1]*x[1] + w[2]*x[2] + b  # :-(\n",
    "# or\n",
    "f = 0\n",
    "for i in range(len(w)):\n",
    "    f += w[i]*x[i]\n",
    "f += b    # :-|\n",
    "# or\n",
    "f = w * x + b  # :-)\n",
    "f = np.dot(w, x) + b  # :-)\n",
    "f = w.T @ x + b  # ^o^"
   ]
  },
  {
   "cell_type": "markdown",
   "metadata": {},
   "source": [
    "## Feature Engineering"
   ]
  },
  {
   "cell_type": "markdown",
   "metadata": {},
   "source": [
    "# Polynomial Regression"
   ]
  },
  {
   "cell_type": "markdown",
   "metadata": {},
   "source": [
    "# Classification"
   ]
  },
  {
   "cell_type": "markdown",
   "metadata": {},
   "source": [
    "## Logistic Regression\n",
    "$$\\begin{aligned}\n",
    "&\\hat{y} = \\sigma(\\theta_0 + \\theta_1x_1 + \\theta_2x_2 + \\cdots + \\theta_mx_m)\\\\\n",
    "&\\sigma(t) = \\frac{1}{1+e^{-t}}\n",
    "\\end{aligned}\n",
    "$$"
   ]
  },
  {
   "cell_type": "code",
   "execution_count": 3,
   "metadata": {},
   "outputs": [
    {
     "data": {
      "image/png": "[encoded data removed]",
      "text/plain": [
       "<Figure size 640x480 with 1 Axes>"
      ]
     },
     "metadata": {},
     "output_type": "display_data"
    }
   ],
   "source": [
    "def sigma(x):\n",
    "    return 1 / (1 + np.exp(-x))\n",
    "\n",
    "x = np.linspace(-10, 10, 1000)\n",
    "y = sigma(x)\n",
    "import matplotlib.pyplot as plt\n",
    "plt.plot(x, y)\n",
    "plt.xlabel('x')\n",
    "plt.ylabel('sigma(x)')\n",
    "plt.grid(True)"
   ]
  },
  {
   "cell_type": "markdown",
   "metadata": {},
   "source": [
    "### Cost Function\n",
    "$$\n",
    "L(h_{\\theta}(x), y) = -y\\log(h_{\\theta}(x)) - (1-y)\\log(1-h_{\\theta}(x))\n",
    "$$\n",
    "$$\n",
    "\\begin{aligned}\n",
    "J(\\theta) &= \\frac{1}{m} \\sum_{i=1}^{m} L(h_{\\theta}(x^{(i)}), y^{(i)})\\\\\n",
    "&= -\\frac{1}{m} \\sum_{i=1}^{m} [y^{(i)}\\log(h_{\\theta}(x^{(i)})) + (1-y^{(i)})\\log(1-h_{\\theta}(x^{(i)}))]\n",
    "\\end{aligned}\n",
    "$$"
   ]
  },
  {
   "cell_type": "markdown",
   "metadata": {},
   "source": [
    "#### Gradient Descent\n",
    "$$\n",
    "\\begin{aligned}\n",
    "\\theta_j &:= \\theta_j - \\alpha \\frac{\\partial}{\\partial \\theta_j} J(\\theta)\\\\\n",
    "&= \\theta_j - \\alpha \\frac{1}{m} \\sum_{i=1}^{m} (h_{\\theta}(x^{(i)}) - y^{(i)})x_j^{(i)}\n",
    "\\end{aligned}\n",
    "$$"
   ]
  },
  {
   "cell_type": "markdown",
   "metadata": {},
   "source": [
    "## Regularization\n",
    "![图 0](images/9bc3dd1b62f3635e3004a4b9c70d45e261599ae68915cede2b32ca6a8a8595d8.png)"
   ]
  }
 ],
 "metadata": {
  "kernelspec": {
   "display_name": "ai_310",
   "language": "python",
   "name": "python3"
  },
  "language_info": {
   "codemirror_mode": {
    "name": "ipython",
    "version": 3
   },
   "file_extension": ".py",
   "mimetype": "text/x-python",
   "name": "python",
   "nbconvert_exporter": "python",
   "pygments_lexer": "ipython3",
   "version": "3.10.13"
  }
 },
 "nbformat": 4,
 "nbformat_minor": 2
}
